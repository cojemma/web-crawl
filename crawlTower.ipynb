{
 "cells": [
  {
   "cell_type": "code",
   "execution_count": 97,
   "id": "747d9259",
   "metadata": {},
   "outputs": [],
   "source": [
    "import requests\n",
    "from bs4 import BeautifulSoup as bs\n",
    "def crawl(url):\n",
    "    headers = {'user-agent':'Mozilla/5.0 (Windows NT 10.0; Win64; x64) AppleWebKit/537.36 (KHTML, like Gecko) Chrome/93.0.4577.63 Safari/537.36 Edg/93.0.961.47'}    \n",
    "    data = requests.get(url, headers = headers)\n",
    "    return data.text\n",
    "#url = 'https://forum.gamer.com.tw/C.php?bsn=60076&snA=5254340&tnum=1728'\n",
    "#data = crawl(url)"
   ]
  },
  {
   "cell_type": "code",
   "execution_count": 98,
   "id": "529be203",
   "metadata": {},
   "outputs": [],
   "source": [
    "def getPage(data, p = 5):   \n",
    "    soup = bs(data, 'html.parser')\n",
    "    hrefs = soup.find('p', class_='BH-pagebtnA').find_all('a')\n",
    "    last_p = int(hrefs[-1].string)\n",
    "    href = f'%s&page=%s' % (url, last_p)\n",
    "    #print(href)\n",
    "    pages = [f'%s&page=%s' % (url, p) for p in range(last_p - p + 1, last_p + 1)]\n",
    "    return pages\n",
    "#pages = getPage(data, 3)\n",
    "#print(len(pages))\n",
    "#print(pages[0])"
   ]
  },
  {
   "cell_type": "code",
   "execution_count": 110,
   "id": "4286a05d",
   "metadata": {},
   "outputs": [],
   "source": [
    "def findGP(url, gp):\n",
    "    p = []\n",
    "    data = crawl(url)\n",
    "    soup = bs(data, 'html.parser')\n",
    "    posts = soup.find_all('div', class_='c-post__body')\n",
    "    for post in posts:\n",
    "        tgp = int(post.find('div', class_='gp').a.string)\n",
    "        if tgp >= gp:\n",
    "            p.append(f'GP: %d\\n%s' % (tgp, post.find('div', class_='c-article__content')))\n",
    "            #print(post.find('div', class_='c-article__content'))\n",
    "    return p\n",
    "            \n",
    "#print(findGP(pages[0], 0))\n"
   ]
  },
  {
   "cell_type": "code",
   "execution_count": 112,
   "id": "15d680d0",
   "metadata": {},
   "outputs": [
    {
     "name": "stdout",
     "output_type": "stream",
     "text": [
      "GP: 25\n",
      "<div class=\"c-article__content\">\n",
      "<div>向大家推薦一個畫師</div><div><br/></div><div><a href=\"https://ref.gamer.com.tw/redir.php?url=https%3A%2F%2Fwww.pixiv.net%2Fusers%2F12801454\" target=\"_blank\">https://www.pixiv.net/users/12801454</a></div><div><a class=\"photoswipe-image\" href=\"https://truth.bahamut.com.tw/s01/202105/b8f9cf990da38d2368429af8d2788358.JPG\"><img class=\"lazyload\" data-src=\"https://truth.bahamut.com.tw/s01/202105/b8f9cf990da38d2368429af8d2788358.JPG\" data-srcset=\"https://truth.bahamut.com.tw/s01/202105/b8f9cf990da38d2368429af8d2788358.JPG?w=1000 1x,https://truth.bahamut.com.tw/s01/202105/b8f9cf990da38d2368429af8d2788358.JPG 2x\"/></a></div><div><a class=\"photoswipe-image\" href=\"https://truth.bahamut.com.tw/s01/202105/a3d2daaa8326ca57ca2117f48b5c6a1a.JPG\"><img class=\"lazyload\" data-src=\"https://truth.bahamut.com.tw/s01/202105/a3d2daaa8326ca57ca2117f48b5c6a1a.JPG\" data-srcset=\"https://truth.bahamut.com.tw/s01/202105/a3d2daaa8326ca57ca2117f48b5c6a1a.JPG?w=1000 1x,https://truth.bahamut.com.tw/s01/202105/a3d2daaa8326ca57ca2117f48b5c6a1a.JPG 2x\"/></a></div><div><a class=\"photoswipe-image\" href=\"https://truth.bahamut.com.tw/s01/202105/5dbd186c22e3bfcd37fe444917985e59.JPG\"><img class=\"lazyload\" data-src=\"https://truth.bahamut.com.tw/s01/202105/5dbd186c22e3bfcd37fe444917985e59.JPG\" data-srcset=\"https://truth.bahamut.com.tw/s01/202105/5dbd186c22e3bfcd37fe444917985e59.JPG?w=1000 1x,https://truth.bahamut.com.tw/s01/202105/5dbd186c22e3bfcd37fe444917985e59.JPG 2x\"/></a></div><div><a class=\"photoswipe-image\" href=\"https://truth.bahamut.com.tw/s01/202105/834f2c6e8f6cd82a237a6edf9faab2e8.JPG\"><img class=\"lazyload\" data-src=\"https://truth.bahamut.com.tw/s01/202105/834f2c6e8f6cd82a237a6edf9faab2e8.JPG\" data-srcset=\"https://truth.bahamut.com.tw/s01/202105/834f2c6e8f6cd82a237a6edf9faab2e8.JPG?w=1000 1x,https://truth.bahamut.com.tw/s01/202105/834f2c6e8f6cd82a237a6edf9faab2e8.JPG 2x\"/></a></div><div><a class=\"photoswipe-image\" href=\"https://truth.bahamut.com.tw/s01/202105/a390b5fe159f6da41cff7ef18448d8b2.JPG\"><img class=\"lazyload\" data-src=\"https://truth.bahamut.com.tw/s01/202105/a390b5fe159f6da41cff7ef18448d8b2.JPG\" data-srcset=\"https://truth.bahamut.com.tw/s01/202105/a390b5fe159f6da41cff7ef18448d8b2.JPG?w=1000 1x,https://truth.bahamut.com.tw/s01/202105/a390b5fe159f6da41cff7ef18448d8b2.JPG 2x\"/></a></div><div><a class=\"photoswipe-image\" href=\"https://truth.bahamut.com.tw/s01/202105/58618b6df76a2516fca4ca28a221bd7c.JPG\"><img class=\"lazyload\" data-src=\"https://truth.bahamut.com.tw/s01/202105/58618b6df76a2516fca4ca28a221bd7c.JPG\" data-srcset=\"https://truth.bahamut.com.tw/s01/202105/58618b6df76a2516fca4ca28a221bd7c.JPG?w=1000 1x,https://truth.bahamut.com.tw/s01/202105/58618b6df76a2516fca4ca28a221bd7c.JPG 2x\"/></a></div><div><a class=\"photoswipe-image\" href=\"https://truth.bahamut.com.tw/s01/202105/fcb2431fa5ce10eadfdaeec644fa4cdb.JPG\"><img class=\"lazyload\" data-src=\"https://truth.bahamut.com.tw/s01/202105/fcb2431fa5ce10eadfdaeec644fa4cdb.JPG\" data-srcset=\"https://truth.bahamut.com.tw/s01/202105/fcb2431fa5ce10eadfdaeec644fa4cdb.JPG?w=1000 1x,https://truth.bahamut.com.tw/s01/202105/fcb2431fa5ce10eadfdaeec644fa4cdb.JPG 2x\"/></a></div><div><br/></div><div>最近覺得自己油圖越看越多</div><div><br/></div><div>就越來越被制約了</div><div><br/></div><div>忘記了繪畫的初衷</div><div><br/></div><div>像這個作者</div><div><br/></div><div>畫技稱不上細緻</div><div><br/></div><div>但是畫裡表現得很開心</div><div><br/></div><div>做為觀看者的我也多少感染到那直率的歡樂</div><div><br/></div><div>這是所謂的初心吧</div><div><br/></div><div><a class=\"photoswipe-image\" href=\"https://truth.bahamut.com.tw/s01/202105/53cf00b4424733a297226110ed84f7f7.JPG\"><img class=\"lazyload\" data-src=\"https://truth.bahamut.com.tw/s01/202105/53cf00b4424733a297226110ed84f7f7.JPG\" data-srcset=\"https://truth.bahamut.com.tw/s01/202105/53cf00b4424733a297226110ed84f7f7.JPG?w=1000 1x,https://truth.bahamut.com.tw/s01/202105/53cf00b4424733a297226110ed84f7f7.JPG 2x\"/></a></div><div><br/></div><div><br/></div><div><br/></div><div><br/></div><div><br/></div><div><br/></div><div><br/></div><div><br/></div><div><br/></div><div><br/></div><div><br/></div>\n",
      "</div>\n",
      "GP: 42\n",
      "<div class=\"c-article__content\">\n",
      "<div><font size=\"3\"><a class=\"photoswipe-image\" href=\"https://truth.bahamut.com.tw/s01/202109/82d9df830be23a78d358442e9f90ec6d.JPG\"><img class=\"lazyload\" data-src=\"https://truth.bahamut.com.tw/s01/202109/82d9df830be23a78d358442e9f90ec6d.JPG\" data-srcset=\"https://truth.bahamut.com.tw/s01/202109/82d9df830be23a78d358442e9f90ec6d.JPG?w=1000 1x,https://truth.bahamut.com.tw/s01/202109/82d9df830be23a78d358442e9f90ec6d.JPG 2x\"/></a></font><br/></div><div><font size=\"3\">#創作</font><br/></div><div><font size=\"3\">kronii jojo立，越來越熟悉手機繪畫程式的一些功能了</font><br/></div><div><a href=\"https://ref.gamer.com.tw/redir.php?url=https%3A%2F%2Ftwitter.com%2Fweasaker%2Fstatus%2F1437425637027811334%3Fs%3D21\" target=\"_blank\">Twitter</a></div>\n",
      "</div>\n",
      "GP: 50\n",
      "<div class=\"c-article__content\">\n",
      "<a class=\"photoswipe-image\" href=\"https://i.imgur.com/P3XWW0Y.gif\"><img class=\"lazyload\" data-src=\"https://i.imgur.com/P3XWW0Y.gif\" data-srcset=\"https://i.imgur.com/P3XWW0Y.gif\"/></a><br/>夜晚來訪的星街菇菇<div>明天要畫什麼好呢？給個意見吧</div>\n",
      "</div>\n"
     ]
    }
   ],
   "source": [
    "def main(url, page, gp):\n",
    "    data = crawl(url)\n",
    "    pages = getPage(data, page)\n",
    "    content = []\n",
    "    for page in pages:\n",
    "        content.append(findGP(page, gp))\n",
    "    return content\n",
    "url = 'https://forum.gamer.com.tw/C.php?bsn=60076&snA=6367604&tnum=52097&bPage=2'\n",
    "text = (main(url, 10, 20))\n",
    "for t in text[0]:\n",
    "    print(t)"
   ]
  },
  {
   "cell_type": "code",
   "execution_count": null,
   "id": "352b0e26",
   "metadata": {},
   "outputs": [],
   "source": []
  }
 ],
 "metadata": {
  "kernelspec": {
   "display_name": "Python 3",
   "language": "python",
   "name": "python3"
  },
  "language_info": {
   "codemirror_mode": {
    "name": "ipython",
    "version": 3
   },
   "file_extension": ".py",
   "mimetype": "text/x-python",
   "name": "python",
   "nbconvert_exporter": "python",
   "pygments_lexer": "ipython3",
   "version": "3.8.8"
  }
 },
 "nbformat": 4,
 "nbformat_minor": 5
}
