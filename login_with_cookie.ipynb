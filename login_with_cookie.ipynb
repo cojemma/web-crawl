{
 "cells": [
  {
   "cell_type": "code",
   "execution_count": 17,
   "id": "475951d6",
   "metadata": {},
   "outputs": [],
   "source": [
    "from selenium import webdriver\n",
    "driver = webdriver.Chrome()"
   ]
  },
  {
   "cell_type": "code",
   "execution_count": 18,
   "id": "ee6cdb31",
   "metadata": {},
   "outputs": [],
   "source": [
    "driver.get('https://www.momoshop.com.tw/main/Main.jsp')"
   ]
  },
  {
   "cell_type": "code",
   "execution_count": 12,
   "id": "9df7ddac",
   "metadata": {},
   "outputs": [],
   "source": [
    "import json\n",
    "cookie = driver.get_cookies()\n",
    "with open('momo.json', 'w') as momo:\n",
    "    momo.write(json.dumps(cookie))"
   ]
  },
  {
   "cell_type": "code",
   "execution_count": 19,
   "id": "1c2e3ff1",
   "metadata": {},
   "outputs": [],
   "source": [
    "with open('momo.json', 'r') as momo:\n",
    "    data = json.loads(momo.read())\n",
    "for c in data:\n",
    "    driver.add_cookie(c)\n",
    "driver.refresh()"
   ]
  },
  {
   "cell_type": "code",
   "execution_count": null,
   "id": "44eef57d",
   "metadata": {},
   "outputs": [],
   "source": []
  }
 ],
 "metadata": {
  "kernelspec": {
   "display_name": "Python 3",
   "language": "python",
   "name": "python3"
  },
  "language_info": {
   "codemirror_mode": {
    "name": "ipython",
    "version": 3
   },
   "file_extension": ".py",
   "mimetype": "text/x-python",
   "name": "python",
   "nbconvert_exporter": "python",
   "pygments_lexer": "ipython3",
   "version": "3.8.8"
  }
 },
 "nbformat": 4,
 "nbformat_minor": 5
}
